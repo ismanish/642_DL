{
 "cells": [
  {
   "cell_type": "markdown",
   "metadata": {
    "nbgrader": {
     "grade": false,
     "grade_id": "cell-9caf0b25af95e666",
     "locked": true,
     "schema_version": 1,
     "solution": false
    }
   },
   "source": [
    "# Homework 4: Adversarial Models (100 points)\n",
    "\n",
    "### Overview\n",
    "\n",
    "Finally, we will review adversarial machine learning models, a powerful paradigm that encompasses multiple classes of predictive models. These models can be used for anything from image generation to data augmentation to text translation.\n",
    "\n",
    "### Model Architecture\n",
    "\n",
    "An adversarial model consists of two pieces: a generator and a discriminator. The generator produces some output using a given noise vector (for example, an artificial image). The goal of the discriminator is then to differentiate real images from generated images.\n",
    "\n",
    "The discriminator can be trained directly using ground-truth data, and the generator can then be trained in a feedback loop with the discriminator. In this way, the generator aims to fool the discriminator, and the discriminator aims to become more and more discerning.\n",
    "\n",
    "### Your Task\n",
    "\n",
    "Complete the questions below. Note that while most of this assignment refers to GANs (Generative Adversarial Networks), the first question speaks to generative models as a broader model architecture rather than GANs specifically.\n",
    "\n",
    "Below each question is a cell with the text “Type Markdown and LaTex.” Double-click the cell and type your response to the question. Save your responses by clicking on the floppy disk icon or choosing File - Save and Checkpoint.\n",
    "\n",
    "After responding to the questions, download your notebook as a `.html` file by choosing File - Download as - html (.html). You will be submitting this `.html` file to your instructor for grading."
   ]
  },
  {
   "cell_type": "markdown",
   "metadata": {
    "nbgrader": {
     "grade": false,
     "grade_id": "cell-1b3da469e852c753",
     "locked": true,
     "schema_version": 1,
     "solution": false
    }
   },
   "source": [
    "## Homework Questions"
   ]
  },
  {
   "cell_type": "markdown",
   "metadata": {
    "nbgrader": {
     "grade": false,
     "grade_id": "cell-c4caca627cfcf41a",
     "locked": true,
     "schema_version": 1,
     "solution": false
    }
   },
   "source": [
    "### Question 1: Generative Models vs Discriminative Models (20 points)\n",
    "\n",
    "What are the key differences between a generative model and a discriminative model from a statistical point of view? Explain them. "
   ]
  },
  {
   "cell_type": "markdown",
   "metadata": {
    "nbgrader": {
     "grade": true,
     "grade_id": "cell-7c8a18d9e9e06243",
     "locked": false,
     "points": 0,
     "schema_version": 1,
     "solution": true
    }
   },
   "source": [
    "Here are the key differences between these two models:\n",
    "\n",
    "Objective:\n",
    "\n",
    "Generative models aim to learn the underlying probability distribution of the data and use it to generate new data points that are similar to the original dataset.\n",
    "\n",
    "Discriminative models, on the other hand, aim to learn the decision boundary that separates different classes in the data. They focus on modeling the conditional probability of the output given the input.\n",
    "\n",
    "In summary, generative models learn the underlying probability distribution of the data and can be used for tasks such as data generation, while discriminative models learn the decision boundary that separates different classes and are better suited for classification tasks."
   ]
  },
  {
   "cell_type": "markdown",
   "metadata": {
    "nbgrader": {
     "grade": false,
     "grade_id": "cell-1a2db2f4d5240ece",
     "locked": true,
     "schema_version": 1,
     "solution": false
    }
   },
   "source": [
    "### Question 2: GAN Trade-offs (20 points)\n",
    "\n",
    "What are the main advantages and disadvantages of GANs over standard machine learning models? Explain them."
   ]
  },
  {
   "cell_type": "markdown",
   "metadata": {
    "nbgrader": {
     "grade": true,
     "grade_id": "cell-a2a6cd11310b3e42",
     "locked": false,
     "points": 0,
     "schema_version": 1,
     "solution": true
    }
   },
   "source": [
    "Here are some of the main advantages and disadvantages of GANs over standard machine learning models:\n",
    "\n",
    "Advantages of GANs:\n",
    "\n",
    "Data generation: GANs can generate new data samples that are similar to the training data, which is useful for data augmentation, data synthesis, and other applications that require large amounts of data.\n",
    "\n",
    "Unsupervised learning: GANs can learn to generate new data samples without being explicitly told what the output should look like. This is useful for unsupervised learning tasks, where the objective is to learn the underlying structure of the data.\n",
    "\n",
    "\n",
    "Disadvantages of GANs:\n",
    "\n",
    "Lack of diversity: GANs can produce highly realistic output, but this can also lead to a lack of diversity in the generated samples. The output can be highly correlated and repetitive.\n",
    "\n",
    "Evaluation is challenging: Evaluating the performance of GANs can be challenging because there is no objective metric for measuring the quality of the generated output. It is often subjective and requires human judgment.\n",
    "\n",
    "In summary, GANs have several advantages over standard machine learning models, such as data generation, unsupervised learning, and creative applications. However, they also have several disadvantages, such as being difficult to train, suffering from mode collapse, and lack of diversity in the generated output."
   ]
  },
  {
   "cell_type": "markdown",
   "metadata": {
    "nbgrader": {
     "grade": false,
     "grade_id": "cell-4fdaa5956fa3aa9d",
     "locked": true,
     "schema_version": 1,
     "solution": false
    }
   },
   "source": [
    "### Question 3: Adversarial Attacks (20 points)\n",
    "\n",
    "What is an adversarial attack on a machine learning model? Explain how it works."
   ]
  },
  {
   "cell_type": "markdown",
   "metadata": {
    "nbgrader": {
     "grade": true,
     "grade_id": "cell-1834d95dca8b9d81",
     "locked": false,
     "points": 0,
     "schema_version": 1,
     "solution": true
    }
   },
   "source": [
    "An adversarial attack on a machine learning model is a deliberate attempt to manipulate the input data in a way that causes the model to make incorrect predictions or decisions. Adversarial attacks are usually carried out by an adversary who has access to the model and wants to cause it to fail.\n",
    "\n",
    "Adversarial attacks work by exploiting the vulnerabilities in the machine learning model's decision boundary. An adversarial example is an input that is similar to the original input but has been perturbed in a way that causes the model to make a wrong prediction.\n",
    "\n",
    "There are different types of adversarial attacks, such as:\n",
    "\n",
    "Gradient-based attacks: These attacks use the gradients of the model to find the direction in which to perturb the input data to cause a misclassification.\n",
    "\n",
    "Optimization-based attacks: These attacks solve an optimization problem to find the smallest possible perturbation that causes a misclassification.\n",
    "\n",
    "Black-box attacks: Black-box attacks assume that the adversary does not have access to the model's parameters or gradients and use techniques such as transferability to craft adversarial examples. Transferability refers to the property that adversarial examples crafted for one model can also fool another model with high probability.\n",
    "\n",
    "Once an adversarial example is crafted, it can be fed to the machine learning model, which will produce an incorrect output. This can have serious consequences in applications such as autonomous vehicles or medical diagnosis, where incorrect decisions can have severe consequences."
   ]
  },
  {
   "cell_type": "markdown",
   "metadata": {
    "nbgrader": {
     "grade": false,
     "grade_id": "cell-cdd75c5b4ec3903f",
     "locked": true,
     "schema_version": 1,
     "solution": false
    }
   },
   "source": [
    "### Question 4: Retraining (20 points)\n",
    "\n",
    "A company has found that their internal image recognition tool is producing empirically poor output for a set of images submitted by their users. Upon further investigation, it is determined that these poor performing images are adversarial attacks designed to fool their image recognition software. However, the same set of images are reused by these attackers over and over. Given this set of successful adversarial attacks, how could this be mitigated in the short run? Will this work in the long run? Why or why not?"
   ]
  },
  {
   "cell_type": "markdown",
   "metadata": {
    "nbgrader": {
     "grade": true,
     "grade_id": "cell-d3b35e93dbc5a77f",
     "locked": false,
     "points": 0,
     "schema_version": 1,
     "solution": true
    }
   },
   "source": [
    "In the short run, there are several steps that the company could take to mitigate the impact of adversarial attacks on their image recognition tool:\n",
    "\n",
    "Adversarial training: One effective method to mitigate adversarial attacks is to train the model with adversarial examples during the training phase. This helps the model to learn to recognize and defend against such attacks. Adversarial training involves generating adversarial examples and adding them to the training dataset, thus making the model more robust to adversarial attacks.\n",
    "\n",
    "Input pre-processing: Another approach is to apply pre-processing to the input data before feeding it to the model. This could involve smoothing, blurring, or resizing the images, which can make it more difficult for the attacker to generate successful adversarial examples.\n",
    "\n",
    "Ensembling: Another method is to use an ensemble of multiple models to classify the input. This can help to reduce the impact of any single adversarial attack.\n",
    "\n",
    "Whitelisting: The company could also use whitelisting to only allow inputs from trusted sources. This can help to mitigate attacks from unknown or untrusted sources.\n",
    "\n",
    "While these methods can help to mitigate the impact of adversarial attacks in the short run, it is important to note that attackers can adapt and create new types of adversarial attacks that can bypass these defenses. Therefore, in the long run, it is essential to continue researching and developing new techniques to improve the robustness of machine learning models against adversarial attacks. This includes developing better defenses, improving the design of models, and collecting more diverse and robust training data to improve the model's generalization and ability to recognize and defend against adversarial examples."
   ]
  },
  {
   "cell_type": "markdown",
   "metadata": {
    "nbgrader": {
     "grade": false,
     "grade_id": "cell-58eaae5215ab9ca0",
     "locked": true,
     "schema_version": 1,
     "solution": false
    }
   },
   "source": [
    "### Question 5: Applications (20 points)\n",
    "\n",
    "What are potential applications of GANs? Research and briefly present three machine learning innovations that used GANs."
   ]
  },
  {
   "cell_type": "markdown",
   "metadata": {
    "nbgrader": {
     "grade": true,
     "grade_id": "cell-756d167bcd92b2c0",
     "locked": false,
     "points": 0,
     "schema_version": 1,
     "solution": true
    }
   },
   "source": [
    "Generative Adversarial Networks (GANs) have a wide range of potential applications in machine learning, particularly in the fields of image and video processing, natural language processing, and audio processing. Here are three examples of machine learning innovations that have used GANs:\n",
    "\n",
    "Image and video synthesis: GANs can be used to generate realistic images and videos that resemble real-world content. For example, NVIDIA's StyleGAN2 is a GAN-based image synthesis model that can generate high-quality images of faces, animals, and other objects. Another example is BigGAN, a GAN-based model that can generate high-resolution images of animals, objects, and scenes.\n",
    "\n",
    "Anomaly detection: GANs can be used for anomaly detection, where the goal is to identify data points that are significantly different from the normal. For example, a team of researchers from IBM used GANs to detect anomalies in medical images, such as lung CT scans. They trained the GAN on a set of normal lung images, and then used it to identify abnormal images that were indicative of lung cancer.\n",
    "\n",
    "Text-to-image synthesis: GANs can be used to generate realistic images from textual descriptions. For example, a team of researchers from Stanford University developed a model called AttnGAN, which can generate images from textual descriptions by attending to different parts of the description at different levels of granularity. They demonstrated that the model was able to generate high-quality images of birds, flowers, and other objects from textual descriptions."
   ]
  }
 ],
 "metadata": {
  "kernelspec": {
   "display_name": "Python 3 (ipykernel)",
   "language": "python",
   "name": "python3"
  },
  "language_info": {
   "codemirror_mode": {
    "name": "ipython",
    "version": 3
   },
   "file_extension": ".py",
   "mimetype": "text/x-python",
   "name": "python",
   "nbconvert_exporter": "python",
   "pygments_lexer": "ipython3",
   "version": "3.8.10"
  }
 },
 "nbformat": 4,
 "nbformat_minor": 2
}
